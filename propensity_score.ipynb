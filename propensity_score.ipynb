{
 "cells": [
  {
   "cell_type": "code",
   "execution_count": 184,
   "metadata": {},
   "outputs": [],
   "source": [
    "import pandas as pd\n",
    "import numpy as np\n",
    "import matplotlib.pyplot as plt\n",
    "import os\n",
    "from sklearn import metrics\n",
    "pd.set_option(\"display.max_rows\", 101)\n",
    "pd.set_option(\"display.max_columns\", 101)\n",
    "%matplotlib inline"
   ]
  },
  {
   "cell_type": "code",
   "execution_count": 185,
   "metadata": {},
   "outputs": [],
   "source": [
    "df=pd.read_csv(\"q_data_x.csv\")"
   ]
  },
  {
   "cell_type": "code",
   "execution_count": 186,
   "metadata": {},
   "outputs": [],
   "source": [
    "#使用する変数の設定\n",
    "X=df[['T','F1', 'F2', 'F3', 'M1', 'M2', 'M3', 'TVwatch_day',\"child_dummy\",'area_kanto', 'area_keihan', 'area_tokai',\n",
    "       'area_keihanshin','marry_dummy', 'job_dummy1',\n",
    "       'job_dummy2', 'job_dummy3', 'job_dummy4', 'job_dummy5', 'job_dummy6',\n",
    "       'job_dummy7', 'job_dummy8']]\n",
    "y=df[\"cm_dummy\"].values"
   ]
  },
  {
   "cell_type": "code",
   "execution_count": 187,
   "metadata": {},
   "outputs": [
    {
     "data": {
      "text/html": [
       "<div>\n",
       "<style scoped>\n",
       "    .dataframe tbody tr th:only-of-type {\n",
       "        vertical-align: middle;\n",
       "    }\n",
       "\n",
       "    .dataframe tbody tr th {\n",
       "        vertical-align: top;\n",
       "    }\n",
       "\n",
       "    .dataframe thead th {\n",
       "        text-align: right;\n",
       "    }\n",
       "</style>\n",
       "<table border=\"1\" class=\"dataframe\">\n",
       "  <thead>\n",
       "    <tr style=\"text-align: right;\">\n",
       "      <th></th>\n",
       "      <th>T</th>\n",
       "      <th>F1</th>\n",
       "      <th>F2</th>\n",
       "      <th>F3</th>\n",
       "      <th>M1</th>\n",
       "      <th>M2</th>\n",
       "      <th>M3</th>\n",
       "      <th>TVwatch_day</th>\n",
       "      <th>child_dummy</th>\n",
       "      <th>area_kanto</th>\n",
       "      <th>area_keihan</th>\n",
       "      <th>area_tokai</th>\n",
       "      <th>area_keihanshin</th>\n",
       "      <th>marry_dummy</th>\n",
       "      <th>job_dummy1</th>\n",
       "      <th>job_dummy2</th>\n",
       "      <th>job_dummy3</th>\n",
       "      <th>job_dummy4</th>\n",
       "      <th>job_dummy5</th>\n",
       "      <th>job_dummy6</th>\n",
       "      <th>job_dummy7</th>\n",
       "      <th>job_dummy8</th>\n",
       "    </tr>\n",
       "  </thead>\n",
       "  <tbody>\n",
       "    <tr>\n",
       "      <th>0</th>\n",
       "      <td>0</td>\n",
       "      <td>0</td>\n",
       "      <td>0</td>\n",
       "      <td>0</td>\n",
       "      <td>0</td>\n",
       "      <td>1</td>\n",
       "      <td>0</td>\n",
       "      <td>33.427600</td>\n",
       "      <td>1</td>\n",
       "      <td>0</td>\n",
       "      <td>0</td>\n",
       "      <td>0</td>\n",
       "      <td>1</td>\n",
       "      <td>1</td>\n",
       "      <td>1</td>\n",
       "      <td>0</td>\n",
       "      <td>0</td>\n",
       "      <td>0</td>\n",
       "      <td>0</td>\n",
       "      <td>0</td>\n",
       "      <td>0</td>\n",
       "      <td>0</td>\n",
       "    </tr>\n",
       "    <tr>\n",
       "      <th>1</th>\n",
       "      <td>0</td>\n",
       "      <td>0</td>\n",
       "      <td>0</td>\n",
       "      <td>0</td>\n",
       "      <td>0</td>\n",
       "      <td>1</td>\n",
       "      <td>0</td>\n",
       "      <td>31.542862</td>\n",
       "      <td>1</td>\n",
       "      <td>0</td>\n",
       "      <td>1</td>\n",
       "      <td>0</td>\n",
       "      <td>0</td>\n",
       "      <td>1</td>\n",
       "      <td>1</td>\n",
       "      <td>0</td>\n",
       "      <td>0</td>\n",
       "      <td>0</td>\n",
       "      <td>0</td>\n",
       "      <td>0</td>\n",
       "      <td>0</td>\n",
       "      <td>0</td>\n",
       "    </tr>\n",
       "    <tr>\n",
       "      <th>2</th>\n",
       "      <td>0</td>\n",
       "      <td>0</td>\n",
       "      <td>0</td>\n",
       "      <td>0</td>\n",
       "      <td>1</td>\n",
       "      <td>0</td>\n",
       "      <td>0</td>\n",
       "      <td>37.825805</td>\n",
       "      <td>0</td>\n",
       "      <td>0</td>\n",
       "      <td>1</td>\n",
       "      <td>0</td>\n",
       "      <td>0</td>\n",
       "      <td>0</td>\n",
       "      <td>0</td>\n",
       "      <td>0</td>\n",
       "      <td>0</td>\n",
       "      <td>0</td>\n",
       "      <td>0</td>\n",
       "      <td>0</td>\n",
       "      <td>1</td>\n",
       "      <td>0</td>\n",
       "    </tr>\n",
       "    <tr>\n",
       "      <th>3</th>\n",
       "      <td>0</td>\n",
       "      <td>0</td>\n",
       "      <td>0</td>\n",
       "      <td>0</td>\n",
       "      <td>0</td>\n",
       "      <td>1</td>\n",
       "      <td>0</td>\n",
       "      <td>36.345911</td>\n",
       "      <td>1</td>\n",
       "      <td>0</td>\n",
       "      <td>1</td>\n",
       "      <td>0</td>\n",
       "      <td>0</td>\n",
       "      <td>1</td>\n",
       "      <td>1</td>\n",
       "      <td>0</td>\n",
       "      <td>0</td>\n",
       "      <td>0</td>\n",
       "      <td>0</td>\n",
       "      <td>0</td>\n",
       "      <td>0</td>\n",
       "      <td>0</td>\n",
       "    </tr>\n",
       "    <tr>\n",
       "      <th>4</th>\n",
       "      <td>0</td>\n",
       "      <td>0</td>\n",
       "      <td>0</td>\n",
       "      <td>0</td>\n",
       "      <td>1</td>\n",
       "      <td>0</td>\n",
       "      <td>0</td>\n",
       "      <td>49.344942</td>\n",
       "      <td>1</td>\n",
       "      <td>0</td>\n",
       "      <td>1</td>\n",
       "      <td>0</td>\n",
       "      <td>0</td>\n",
       "      <td>1</td>\n",
       "      <td>1</td>\n",
       "      <td>0</td>\n",
       "      <td>0</td>\n",
       "      <td>0</td>\n",
       "      <td>0</td>\n",
       "      <td>0</td>\n",
       "      <td>0</td>\n",
       "      <td>0</td>\n",
       "    </tr>\n",
       "  </tbody>\n",
       "</table>\n",
       "</div>"
      ],
      "text/plain": [
       "   T  F1  F2  F3  M1  M2  M3  TVwatch_day  child_dummy  area_kanto  \\\n",
       "0  0   0   0   0   0   1   0    33.427600            1           0   \n",
       "1  0   0   0   0   0   1   0    31.542862            1           0   \n",
       "2  0   0   0   0   1   0   0    37.825805            0           0   \n",
       "3  0   0   0   0   0   1   0    36.345911            1           0   \n",
       "4  0   0   0   0   1   0   0    49.344942            1           0   \n",
       "\n",
       "   area_keihan  area_tokai  area_keihanshin  marry_dummy  job_dummy1  \\\n",
       "0            0           0                1            1           1   \n",
       "1            1           0                0            1           1   \n",
       "2            1           0                0            0           0   \n",
       "3            1           0                0            1           1   \n",
       "4            1           0                0            1           1   \n",
       "\n",
       "   job_dummy2  job_dummy3  job_dummy4  job_dummy5  job_dummy6  job_dummy7  \\\n",
       "0           0           0           0           0           0           0   \n",
       "1           0           0           0           0           0           0   \n",
       "2           0           0           0           0           0           1   \n",
       "3           0           0           0           0           0           0   \n",
       "4           0           0           0           0           0           0   \n",
       "\n",
       "   job_dummy8  \n",
       "0           0  \n",
       "1           0  \n",
       "2           0  \n",
       "3           0  \n",
       "4           0  "
      ]
     },
     "execution_count": 187,
     "metadata": {},
     "output_type": "execute_result"
    }
   ],
   "source": [
    "X.head()"
   ]
  },
  {
   "cell_type": "code",
   "execution_count": 188,
   "metadata": {},
   "outputs": [
    {
     "name": "stdout",
     "output_type": "stream",
     "text": [
      "CM接触者の平均プレイ時間 2478.0658783783783\n",
      "CM非接触者の平均プレイ時間 3107.7064549180327\n"
     ]
    }
   ],
   "source": [
    "#何も補正を入れない場合のATE（Average Treatment Effect）\n",
    "print(\"CM接触者の平均プレイ時間\",df[df[\"cm_dummy\"]==1][\"gamesecond\"].mean())\n",
    "print(\"CM非接触者の平均プレイ時間\",df[df[\"cm_dummy\"]==0][\"gamesecond\"].mean())"
   ]
  },
  {
   "cell_type": "markdown",
   "metadata": {},
   "source": [
    "# ロジスティック回帰"
   ]
  },
  {
   "cell_type": "code",
   "execution_count": 189,
   "metadata": {},
   "outputs": [
    {
     "name": "stderr",
     "output_type": "stream",
     "text": [
      "/Users/rmizuta/.pyenv/versions/anaconda3-5.2.0/lib/python3.6/site-packages/sklearn/linear_model/logistic.py:433: FutureWarning: Default solver will be changed to 'lbfgs' in 0.22. Specify a solver to silence this warning.\n",
      "  FutureWarning)\n"
     ]
    }
   ],
   "source": [
    "#ロジスティック回帰\n",
    "from sklearn.linear_model import LogisticRegression\n",
    "# ロジスティック回帰\n",
    "lr = LogisticRegression()\n",
    "lr.fit(X, y)\n",
    "#傾向スコア\n",
    "lr_pred=lr.predict_proba(X)[:,1]"
   ]
  },
  {
   "cell_type": "code",
   "execution_count": 190,
   "metadata": {},
   "outputs": [
    {
     "data": {
      "image/png": "[encoded data removed]",
      "text/plain": [
       "<Figure size 432x288 with 1 Axes>"
      ]
     },
     "metadata": {
      "needs_background": "light"
     },
     "output_type": "display_data"
    }
   ],
   "source": [
    "#calibrationplot\n",
    "from sklearn.calibration import calibration_curve\n",
    "gb_y, gb_x = calibration_curve(y, lr_pred, n_bins=10)\n",
    "plt.plot([0, 1], [0, 1], linestyle='--')\n",
    "plt.plot(gb_x, gb_y, marker='.')\n",
    "plt.xlabel(\"Bin Midpoint\")\n",
    "plt.ylabel(\"Observed Event Percentage\")\n",
    "plt.show()"
   ]
  },
  {
   "cell_type": "code",
   "execution_count": 191,
   "metadata": {},
   "outputs": [
    {
     "name": "stdout",
     "output_type": "stream",
     "text": [
      "0.7841444342468933\n"
     ]
    }
   ],
   "source": [
    "# AUC\n",
    "fpr, tpr, thresholds = metrics.roc_curve(y, lr_pred)\n",
    "auc = metrics.auc(fpr, tpr)\n",
    "print(auc)"
   ]
  },
  {
   "cell_type": "code",
   "execution_count": 192,
   "metadata": {},
   "outputs": [
    {
     "name": "stdout",
     "output_type": "stream",
     "text": [
      "2991.2764857907982\n",
      "2729.300702902091\n",
      "261.9757828887073\n"
     ]
    }
   ],
   "source": [
    "#重み付け推定法\n",
    "z1=df[\"cm_dummy\"]\n",
    "gy=df[\"gamesecond\"]\n",
    "\n",
    "ipwe1 = sum((z1*gy)/lr_pred)/sum(z1/lr_pred)\n",
    "ipwe0 = sum(((1-z1)*gy)/(1-lr_pred))/sum((1-z1)/(1-lr_pred))\n",
    "print(ipwe1)\n",
    "print(ipwe0)\n",
    "print(ipwe1 - ipwe0)"
   ]
  },
  {
   "cell_type": "markdown",
   "metadata": {},
   "source": [
    "# ランダムフォレスト"
   ]
  },
  {
   "cell_type": "code",
   "execution_count": 193,
   "metadata": {},
   "outputs": [
    {
     "name": "stdout",
     "output_type": "stream",
     "text": [
      "0\n",
      "1\n",
      "2\n",
      "3\n"
     ]
    }
   ],
   "source": [
    "#ランダムフォレスト\n",
    "from sklearn.ensemble import RandomForestClassifier\n",
    "from sklearn.model_selection import StratifiedShuffleSplit\n",
    "from sklearn.model_selection import StratifiedKFold\n",
    "from sklearn.calibration import CalibratedClassifierCV\n",
    "#rf = RandomForestClassifier(random_state=0)\n",
    "#4foldでoofでやる\n",
    "rf_pred=np.zeros((X.shape[0]))\n",
    "rf_calibratedpred=np.zeros((X.shape[0]))\n",
    "#sss = StratifiedShuffleSplit(n_splits=4,test_size=0.25,random_state=94)\n",
    "sss = StratifiedKFold(n_splits=4, random_state=94, shuffle=True)\n",
    "for i, (train_index, test_index) in enumerate(sss.split(X, y)):\n",
    "    print(i)\n",
    "    X_train, X_valid = X.iloc[train_index,:], X.iloc[test_index,:]\n",
    "    y_train, y_valid = y[train_index], y[test_index]\n",
    "    \n",
    "    rf = RandomForestClassifier(n_estimators=100, max_depth=4,random_state=0)\n",
    "    rf.fit(X_train, y_train)\n",
    "    rf_pred[test_index]=rf.predict_proba(X_valid)[:,1]\n",
    "    \n",
    "    #rf = RandomForestClassifier(n_estimators=100, max_depth=4,random_state=0)\n",
    "    rf_calibrated = CalibratedClassifierCV(rf, method='isotonic', cv=5)\n",
    "    rf_calibrated.fit(X_train, y_train)\n",
    "    rf_calibratedpred[test_index] = rf_calibrated.predict_proba(X_valid)[:,1]"
   ]
  },
  {
   "cell_type": "code",
   "execution_count": 194,
   "metadata": {},
   "outputs": [
    {
     "name": "stdout",
     "output_type": "stream",
     "text": [
      "0.8059838348484609\n",
      "0.8150561390027324\n"
     ]
    }
   ],
   "source": [
    "# AUC\n",
    "fpr, tpr, thresholds = metrics.roc_curve(y, rf_pred)\n",
    "auc = metrics.auc(fpr, tpr)\n",
    "print(auc)\n",
    "fpr, tpr, thresholds = metrics.roc_curve(y, rf_calibratedpred)\n",
    "auc = metrics.auc(fpr, tpr)\n",
    "print(auc)"
   ]
  },
  {
   "cell_type": "code",
   "execution_count": 195,
   "metadata": {},
   "outputs": [
    {
     "data": {
      "image/png": "[encoded data removed]",
      "text/plain": [
       "<Figure size 432x288 with 1 Axes>"
      ]
     },
     "metadata": {
      "needs_background": "light"
     },
     "output_type": "display_data"
    }
   ],
   "source": [
    "#calibrationplot\n",
    "from sklearn.calibration import calibration_curve\n",
    "gb_y, gb_x = calibration_curve(y, rf_pred, n_bins=10)\n",
    "plt.plot([0, 1], [0, 1], linestyle='--')\n",
    "# plot model reliability\n",
    "plt.plot(gb_x, gb_y, marker='.')\n",
    "#gb_y, gb_x = calibration_curve(y, calibratedpred, n_bins=10)\n",
    "#plt.plot(gb_x, gb_y, marker='.')\n",
    "plt.xlabel(\"Bin Midpoint\")\n",
    "plt.ylabel(\"Observed Event Percentage\")\n",
    "plt.show()"
   ]
  },
  {
   "cell_type": "code",
   "execution_count": 196,
   "metadata": {},
   "outputs": [
    {
     "data": {
      "image/png": "[encoded data removed]",
      "text/plain": [
       "<Figure size 432x288 with 1 Axes>"
      ]
     },
     "metadata": {
      "needs_background": "light"
     },
     "output_type": "display_data"
    }
   ],
   "source": [
    "#calibrationplot\n",
    "from sklearn.calibration import calibration_curve\n",
    "#gb_y, gb_x = calibration_curve(y, rf_pred, n_bins=10)\n",
    "plt.plot([0, 1], [0, 1], linestyle='--')\n",
    "# plot model reliability\n",
    "#plt.plot(gb_x, gb_y, marker='.')\n",
    "gb_y, gb_x = calibration_curve(y, rf_calibratedpred, n_bins=10)\n",
    "plt.plot(gb_x, gb_y, marker='.')\n",
    "plt.xlabel(\"Bin Midpoint\")\n",
    "plt.ylabel(\"Observed Event Percentage\")\n",
    "plt.show()"
   ]
  },
  {
   "cell_type": "code",
   "execution_count": 197,
   "metadata": {},
   "outputs": [
    {
     "name": "stdout",
     "output_type": "stream",
     "text": [
      "3040.188224698532\n",
      "2759.2179125729012\n",
      "-280.9703121256307\n",
      "2858.3106112728797\n",
      "3712.041675317884\n",
      "853.7310640450041\n"
     ]
    }
   ],
   "source": [
    "#重み付け推定法\n",
    "#補正なし\n",
    "z1=df[\"cm_dummy\"]\n",
    "gy=df[\"gamesecond\"].values\n",
    "\n",
    "ipwe1 = sum((z1*gy)/rf_pred)/sum(z1/rf_pred)\n",
    "ipwe0 = sum(((1-z1)*gy)/(1-rf_pred))/sum((1-z1)/(1-rf_pred))\n",
    "print(ipwe0)\n",
    "print(ipwe1)\n",
    "#ATE\n",
    "print(ipwe1 - ipwe0)\n",
    "\n",
    "#補正あり\n",
    "ipwdf=pd.DataFrame()\n",
    "ipwdf[\"pred\"]=rf_calibratedpred\n",
    "ipwdf[\"z1\"]=df[\"cm_dummy\"]\n",
    "ipwdf[\"gy\"]=df[\"gamesecond\"].values\n",
    "ipwdf=ipwdf[(ipwdf[\"pred\"]>=0.01) &(ipwdf[\"pred\"]<0.99) ]\n",
    "\n",
    "rf_calibratedpred2=ipwdf[\"pred\"].values\n",
    "z1=ipwdf[\"z1\"].values\n",
    "gy=ipwdf[\"gy\"].values\n",
    "\n",
    "rf_calibratedpred=rf_calibratedpred\n",
    "ipwe1 = sum((z1*gy)/rf_calibratedpred2)/sum(z1/rf_calibratedpred2)\n",
    "ipwe0 = sum(((1-z1)*gy)/(1-rf_calibratedpred2))/sum((1-z1)/(1-rf_calibratedpred2))\n",
    "print(ipwe0)\n",
    "print(ipwe1)\n",
    "#ATE\n",
    "print(ipwe1 - ipwe0)"
   ]
  },
  {
   "cell_type": "markdown",
   "metadata": {},
   "source": [
    "# lightgbm"
   ]
  },
  {
   "cell_type": "code",
   "execution_count": 198,
   "metadata": {},
   "outputs": [],
   "source": [
    "#lightgbm\n",
    "import lightgbm as lgb\n",
    "from sklearn.ensemble import RandomForestClassifier\n",
    "from sklearn.model_selection import StratifiedShuffleSplit\n",
    "from sklearn.model_selection import StratifiedKFold\n",
    "from sklearn.calibration import CalibratedClassifierCV\n",
    "#4foldでoofでやる\n",
    "lgb_pred=np.zeros((X.shape[0]))\n",
    "lgb_calibratedpred=np.zeros((X.shape[0]))\n",
    "#sss = StratifiedShuffleSplit(n_splits=4,test_size=0.25,random_state=94)\n",
    "sss = StratifiedKFold(n_splits=4, random_state=94, shuffle=True)\n",
    "for i, (train_index, test_index) in enumerate(sss.split(X, y)):\n",
    "    X_train, X_valid = X.iloc[train_index,:], X.iloc[test_index,:]\n",
    "    y_train, y_valid = y[train_index], y[test_index]\n",
    "    \n",
    "    #dtrain = lgb.Dataset(X_train, label=y_train)\n",
    "    #dvalid = lgb.Dataset(X_valid, label=y_valid)\n",
    "    #model = lgb.train(params, dtrain, num_boost_round=1000,valid_sets=[dtrain,dvalid],early_stopping_rounds=50,verbose_eval=100)\n",
    "    model = lgb.LGBMClassifier(boosting_type= 'gbdt',objective = 'binary',)\n",
    "    model.fit(X_train, y_train)\n",
    "    lgb_pred[test_index]=model.predict_proba(X_valid)[:,1]\n",
    "    #pd.Series(model.predict_proba(X_valid)[:,1]).hist(bins=30)\n",
    "    \n",
    "    #clf = RandomForestClassifier(n_estimators=100, max_depth=4,random_state=0)\n",
    "    lgb_calibrated_model = CalibratedClassifierCV(model, method='isotonic', cv=5)\n",
    "    lgb_calibrated_model.fit(X_train, y_train)\n",
    "    lgb_calibratedpred[test_index] = lgb_calibrated_model.predict_proba(X_valid)[:,1]"
   ]
  },
  {
   "cell_type": "code",
   "execution_count": 199,
   "metadata": {},
   "outputs": [
    {
     "data": {
      "image/png": "[encoded data removed]",
      "text/plain": [
       "<Figure size 432x288 with 1 Axes>"
      ]
     },
     "metadata": {
      "needs_background": "light"
     },
     "output_type": "display_data"
    }
   ],
   "source": [
    "#calibrationplot\n",
    "from sklearn.calibration import calibration_curve\n",
    "gb_y, gb_x = calibration_curve(y, lgb_pred, n_bins=10)\n",
    "plt.plot([0, 1], [0, 1], linestyle='--')\n",
    "# plot model reliability\n",
    "plt.plot(gb_x, gb_y, marker='.')\n",
    "#gb_y, gb_x = calibration_curve(y, calibratedpred, n_bins=10)\n",
    "#plt.plot(gb_x, gb_y, marker='.')\n",
    "plt.xlabel(\"Bin Midpoint\")\n",
    "plt.ylabel(\"Observed Event Percentage\")\n",
    "plt.show()"
   ]
  },
  {
   "cell_type": "code",
   "execution_count": 200,
   "metadata": {},
   "outputs": [
    {
     "data": {
      "image/png": "[encoded data removed]",
      "text/plain": [
       "<Figure size 432x288 with 1 Axes>"
      ]
     },
     "metadata": {
      "needs_background": "light"
     },
     "output_type": "display_data"
    }
   ],
   "source": [
    "#calibrationplot\n",
    "from sklearn.calibration import calibration_curve\n",
    "#gb_y, gb_x = calibration_curve(y, pred, n_bins=10)\n",
    "plt.plot([0, 1], [0, 1], linestyle='--')\n",
    "# plot model reliability\n",
    "#plt.plot(gb_x, gb_y, marker='.')\n",
    "gb_y, gb_x = calibration_curve(y, lgb_calibratedpred, n_bins=10)\n",
    "plt.plot(gb_x, gb_y, marker='.')\n",
    "plt.xlabel(\"Bin Midpoint\")\n",
    "plt.ylabel(\"Observed Event Percentage\")\n",
    "plt.show()"
   ]
  },
  {
   "cell_type": "code",
   "execution_count": 201,
   "metadata": {},
   "outputs": [
    {
     "name": "stdout",
     "output_type": "stream",
     "text": [
      "0.9667850483680402\n",
      "0.9708886424114397\n"
     ]
    }
   ],
   "source": [
    "# AUC\n",
    "fpr, tpr, thresholds = metrics.roc_curve(y, lgb_pred)\n",
    "auc = metrics.auc(fpr, tpr)\n",
    "print(auc)\n",
    "fpr, tpr, thresholds = metrics.roc_curve(y, lgb_calibratedpred)\n",
    "auc = metrics.auc(fpr, tpr)\n",
    "print(auc)"
   ]
  },
  {
   "cell_type": "code",
   "execution_count": 202,
   "metadata": {},
   "outputs": [
    {
     "name": "stdout",
     "output_type": "stream",
     "text": [
      "2854.1857886312214\n",
      "3464.353163513029\n",
      "610.1673748818075\n",
      "2689.0126197323625\n",
      "5129.54679490276\n",
      "2440.5341751703972\n"
     ]
    }
   ],
   "source": [
    "#重み付け推定法\n",
    "#補正前\n",
    "z1=df[\"cm_dummy\"]\n",
    "gy=df[\"gamesecond\"].values\n",
    "\n",
    "ipwe1 = sum((z1*gy)/lgb_pred)/sum(z1/lgb_pred)\n",
    "ipwe0 = sum(((1-z1)*gy)/(1-lgb_pred))/sum((1-z1)/(1-lgb_pred))\n",
    "print(ipwe0)\n",
    "print(ipwe1)\n",
    "#ATE\n",
    "print(ipwe1 - ipwe0)\n",
    "\n",
    "#補正後\n",
    "ipwdf=pd.DataFrame()\n",
    "ipwdf[\"pred\"]=lgb_calibratedpred\n",
    "ipwdf[\"z1\"]=df[\"cm_dummy\"]\n",
    "ipwdf[\"gy\"]=df[\"gamesecond\"].values\n",
    "ipwdf=ipwdf[(ipwdf[\"pred\"]>=0.01) &(ipwdf[\"pred\"]<0.99) ]\n",
    "\n",
    "lgb_calibratedpred2=ipwdf[\"pred\"].values\n",
    "z1=ipwdf[\"z1\"].values\n",
    "gy=ipwdf[\"gy\"].values\n",
    "\n",
    "ipwe1 = sum((z1*gy)/lgb_calibratedpred2)/sum(z1/lgb_calibratedpred2)\n",
    "ipwe0 = sum(((1-z1)*gy)/(1-lgb_calibratedpred2))/sum((1-z1)/(1-lgb_calibratedpred2))\n",
    "print(ipwe0)\n",
    "print(ipwe1)\n",
    "#ATE\n",
    "print(ipwe1 - ipwe0)"
   ]
  },
  {
   "cell_type": "code",
   "execution_count": 203,
   "metadata": {},
   "outputs": [
    {
     "name": "stdout",
     "output_type": "stream",
     "text": [
      "1711.622811531692\n",
      "2979.062748562858\n",
      "1267.439937031166\n"
     ]
    }
   ],
   "source": [
    "#重み付け推定法(傾向スコア0.1以上)\n",
    "ipwdf=pd.DataFrame()\n",
    "ipwdf[\"pred\"]=lgb_calibratedpred\n",
    "ipwdf[\"z1\"]=df[\"cm_dummy\"]\n",
    "ipwdf[\"gy\"]=df[\"gamesecond\"].values\n",
    "ipwdf=ipwdf[(ipwdf[\"pred\"]>=0.1)&(ipwdf[\"pred\"]<0.99) ]\n",
    "\n",
    "lgb_calibratedpred2=ipwdf[\"pred\"].values\n",
    "z1=ipwdf[\"z1\"].values\n",
    "gy=ipwdf[\"gy\"].values\n",
    "\n",
    "#ATE\n",
    "#calibratedpred2=np.clip(calibratedpred2,0.01,0.99) #計算の都合上clip\n",
    "ipwe1 = sum((z1*gy)/lgb_calibratedpred2)/sum(z1/lgb_calibratedpred2)\n",
    "ipwe0 = sum(((1-z1)*gy)/(1-lgb_calibratedpred2))/sum((1-z1)/(1-lgb_calibratedpred2))\n",
    "print(ipwe0)\n",
    "print(ipwe1)\n",
    "#ATE\n",
    "print(ipwe1 - ipwe0)"
   ]
  },
  {
   "cell_type": "code",
   "execution_count": 204,
   "metadata": {},
   "outputs": [
    {
     "data": {
      "image/png": "[encoded data removed]",
      "text/plain": [
       "<Figure size 864x576 with 1 Axes>"
      ]
     },
     "metadata": {
      "needs_background": "light"
     },
     "output_type": "display_data"
    }
   ],
   "source": [
    "plt.figure(figsize=(12,8))\n",
    "plt.hist(lr_pred,alpha=0.3,label=\"logistic regression\")\n",
    "plt.hist(rf_calibratedpred,alpha=0.3,label=\"random forest\")\n",
    "plt.hist(lgb_calibratedpred,alpha=0.3,label=\"lightgbm\")\n",
    "plt.legend()\n",
    "plt.show()"
   ]
  },
  {
   "cell_type": "code",
   "execution_count": 183,
   "metadata": {},
   "outputs": [
    {
     "name": "stdout",
     "output_type": "stream",
     "text": [
      "0\n",
      "12 3130 0.0038338658146964857\n",
      "18383.083333333332\n",
      "3077.2373801916933\n",
      "1\n",
      "18 572 0.03146853146853147\n",
      "46783.0\n",
      "6437.0944055944055\n",
      "2\n",
      "19 305 0.06229508196721312\n",
      "18935.21052631579\n",
      "3429.085245901639\n",
      "3\n",
      "25 256 0.09765625\n",
      "4078.72\n",
      "3173.953125\n",
      "4\n",
      "53 176 0.30113636363636365\n",
      "0.0\n",
      "2159.278409090909\n",
      "5\n",
      "36 152 0.23684210526315788\n",
      "1682.138888888889\n",
      "1115.8815789473683\n",
      "6\n",
      "94 146 0.6438356164383562\n",
      "0.0\n",
      "3310.054794520548\n",
      "7\n",
      "74 99 0.7474747474747475\n",
      "4419.472972972973\n",
      "0.0\n",
      "8\n",
      "66 127 0.5196850393700787\n",
      "5787.348484848485\n",
      "5062.535433070866\n",
      "9\n",
      "90 123 0.7317073170731707\n",
      "3426.5777777777776\n",
      "1890.0731707317073\n",
      "10\n",
      "114 125 0.912\n",
      "2462.1754385964914\n",
      "2913.104\n",
      "11\n",
      "140 54 2.5925925925925926\n",
      "1184.0428571428572\n",
      "81.70370370370371\n",
      "12\n",
      "131 86 1.5232558139534884\n",
      "14869.900763358779\n",
      "431.25581395348837\n",
      "13\n",
      "147 43 3.4186046511627906\n",
      "5446.571428571428\n",
      "70.51162790697674\n",
      "14\n",
      "206 38 5.421052631578948\n",
      "4628.97572815534\n",
      "79.8157894736842\n",
      "15\n",
      "214 43 4.976744186046512\n",
      "2943.873831775701\n",
      "792.0232558139535\n",
      "16\n",
      "188 30 6.266666666666667\n",
      "1034.4468085106382\n",
      "2270.3\n",
      "17\n",
      "285 24 11.875\n",
      "509.03508771929825\n",
      "735.375\n",
      "18\n",
      "378 4 94.5\n",
      "337.27777777777777\n",
      "0.0\n",
      "19\n",
      "1367 16 85.4375\n",
      "1079.7798098024873\n",
      "0.0\n"
     ]
    },
    {
     "name": "stderr",
     "output_type": "stream",
     "text": [
      "/Users/rmizuta/.pyenv/versions/anaconda3-5.2.0/lib/python3.6/site-packages/ipykernel_launcher.py:6: SettingWithCopyWarning: \n",
      "A value is trying to be set on a copy of a slice from a DataFrame.\n",
      "Try using .loc[row_indexer,col_indexer] = value instead\n",
      "\n",
      "See the caveats in the documentation: http://pandas.pydata.org/pandas-docs/stable/indexing.html#indexing-view-versus-copy\n",
      "  \n"
     ]
    },
    {
     "data": {
      "text/plain": [
       "5048.117439082355"
      ]
     },
     "execution_count": 183,
     "metadata": {},
     "output_type": "execute_result"
    }
   ],
   "source": [
    "#層別マッチング(確認用)\n",
    "#層別マッチング(0.05刻み)\n",
    "interval = np.arange(0,1.05,0.05)\n",
    "match_list = []\n",
    "table=df[[\"cm_dummy\",\"gamesecond\"]]\n",
    "table[\"ps\"]=lgb_calibratedpred\n",
    "for i in range(0,len(interval)-1):\n",
    "    temp0 = table[(table['cm_dummy']==0) & (interval[i] < table['ps']) & (table['ps'] < interval[i+1])]\n",
    "    temp1 = table[(table['cm_dummy']==1) & (interval[i] < table['ps']) & (table['ps'] < interval[i+1])]\n",
    "    if (len(temp0) > 0) & (len(temp1) > 0):\n",
    "        match_list.append(temp1['gamesecond'].mean()-temp0['gamesecond'].mean())\n",
    "        print(i)\n",
    "        print(len(temp1),len(temp0),len(temp1)/len(temp0))\n",
    "        print(temp1['gamesecond'].mean())\n",
    "        print(temp0['gamesecond'].mean())\n",
    "\n",
    "np.mean(match_list)"
   ]
  }
 ],
 "metadata": {
  "kernelspec": {
   "display_name": "Python 3",
   "language": "python",
   "name": "python3"
  },
  "language_info": {
   "codemirror_mode": {
    "name": "ipython",
    "version": 3
   },
   "file_extension": ".py",
   "mimetype": "text/x-python",
   "name": "python",
   "nbconvert_exporter": "python",
   "pygments_lexer": "ipython3",
   "version": "3.6.7"
  }
 },
 "nbformat": 4,
 "nbformat_minor": 2
}
